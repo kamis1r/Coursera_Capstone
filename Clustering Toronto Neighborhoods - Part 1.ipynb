{
 "cells": [
  {
   "cell_type": "markdown",
   "metadata": {},
   "source": [
    "# 1. Introduction"
   ]
  },
  {
   "cell_type": "markdown",
   "metadata": {},
   "source": [
    "### 1.1 Background \n",
    "\n",
    "Toronto is the capital of Ontario and is the most populous city in Canada with a population of 2,731,571 in 2016. It is an international centre of business, finance, arts, and culture, and is recognized as one of the most multicultural and cosmopolitan cities in the world. The cuisine of Toronto reflects the multicultural diversity of the city by being the host to restaurants belonging to various cuisines from all over the world like Chinese, Vietnamese, Korean, Indian, Italian etc. There are neighborhoods where the dominant cuisine is based on the demographics of the people living there. Certain neighborhoods are famous for certain types of cuisines. For example, Chinatown is famous for Chinese cuisine, Koreatown is famous for korean cuisine and so on."
   ]
  },
  {
   "cell_type": "markdown",
   "metadata": {},
   "source": [
    "### 1.2 Problem\n",
    "\n",
    "According to Yelp, a recommendation app, there are around 15,822 restaurants and 103 neighborhoods in Toronto. Therefore, tourists who are new to Toronto need help in deciding what neighborhood to visit in order to try the cuisine it is famous for. Tourist guides find it helpful if they know what neighborhoods are popular for specific cuisines so that they can recommend them to the tourists."
   ]
  },
  {
   "cell_type": "markdown",
   "metadata": {},
   "source": [
    "### 1.3 Interested audience\n",
    "\n",
    "Tourists to Toronto would be interested in finding the neighborhoods in which their favorite cuisine is famous. Tourist guides find it helpful in recommending those neighborhoods based on the interests of their clients. Entrepreneurs can find what the dominant cuisine of a neighborhood is in order to decide if they want to establish restaurant of a different cusine to avoid competition, or choose a different neighborhood. "
   ]
  },
  {
   "cell_type": "markdown",
   "metadata": {},
   "source": [
    "# 2. Data acquisition and cleaning"
   ]
  },
  {
   "cell_type": "markdown",
   "metadata": {},
   "source": [
    "### 2.1 Data Sources\n",
    "\n",
    "Data about the boroughs, neighborhoods and postal codes in Toronto taken from [this](https://en.wikipedia.org/wiki/List_of_postal_codes_of_Canada:_M) wikipedia table. The coordinates of each neighborhood according to its postal code is given in [this](https://github.com/kamis1r/Coursera_Capstone/blob/master/Geospatial_Coordinates.csv) table. There are 11 boroughs and 103 neighborhoods in total. \n",
    "\n",
    "Details of restaurants can be obtained by refining location data given by Foursquare API. To do this, firstly, a search request is made to tabulate all venues in a particular neighborhood. The venue ID from the table is then used to make a request to obtain details of the venue like the menu, price, rating, category and \"likes\". Since we are clustering neighborhoods based on the most liked category of restaurants, we are only interested in the \"category\" and \"likes\" fields of the data. \n"
   ]
  },
  {
   "cell_type": "markdown",
   "metadata": {},
   "source": [
    "### 2.1 Data Cleaning\n",
    "\n",
    "Rows where boroughs are not assigned are dropped. If a row has a borough and a postal code, but has no neighborhood, the borough is assigned as the neighborhood. The data in the geospatial coordinates table did not need any cleaning. Venue details obtained from Foursquare are filtered to get only the venue ID, venue neighborhood, venue category and number of \"likes\" the venue has. "
   ]
  },
  {
   "cell_type": "code",
   "execution_count": null,
   "metadata": {},
   "outputs": [],
   "source": []
  }
 ],
 "metadata": {
  "kernelspec": {
   "display_name": "Python 3",
   "language": "python",
   "name": "python3"
  },
  "language_info": {
   "codemirror_mode": {
    "name": "ipython",
    "version": 3
   },
   "file_extension": ".py",
   "mimetype": "text/x-python",
   "name": "python",
   "nbconvert_exporter": "python",
   "pygments_lexer": "ipython3",
   "version": "3.7.3"
  }
 },
 "nbformat": 4,
 "nbformat_minor": 2
}
