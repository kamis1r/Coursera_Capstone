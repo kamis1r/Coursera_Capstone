{
    "nbformat_minor": 1, 
    "cells": [
        {
            "source": "# 1. Introduction", 
            "cell_type": "markdown", 
            "metadata": {
                "collapsed": true
            }
        }, 
        {
            "source": "A tourist wants to visit NYC and taste the local cuisine at the various restaraunts in the city. Before travelling to one of the five boroughs of NYC, the tourist wants to know what neighborhoods in any given borough has the best reviewed restaraunts. The tourist wants to eat restaraunts that are not only well recieved by customers, but also where the food is prepared in a safe environment since NYC is infamous for having restaraunts with unclean kitchens. He also prefers to eat at restaruants that are moderately priced in order to save money. ", 
            "cell_type": "markdown", 
            "metadata": {}
        }, 
        {
            "source": "# 2. Data", 
            "cell_type": "markdown", 
            "metadata": {}
        }, 
        {
            "source": "In order to group neighborhoods into clusters with similar features so that it is easier for the tourist to decide where to eat, venue data from foursquare is used to get information about restaraunt ratings and prices. Additionally, NYC restaraunt inspection dataset is used to get data about the inspection scores of NYC restaraunts. The data from Foursquare and NYC restaraunt inspection dataset is combined and is used to perform k-means clustering to form clusters of neighborhoods with similar restaurants.", 
            "cell_type": "markdown", 
            "metadata": {}
        }, 
        {
            "source": "", 
            "cell_type": "code", 
            "execution_count": null, 
            "outputs": [], 
            "metadata": {}
        }
    ], 
    "nbformat": 4, 
    "metadata": {
        "kernelspec": {
            "display_name": "Python 3.6", 
            "name": "python3", 
            "language": "python"
        }, 
        "language_info": {
            "mimetype": "text/x-python", 
            "nbconvert_exporter": "python", 
            "version": "3.6.8", 
            "name": "python", 
            "pygments_lexer": "ipython3", 
            "file_extension": ".py", 
            "codemirror_mode": {
                "version": 3, 
                "name": "ipython"
            }
        }
    }
}